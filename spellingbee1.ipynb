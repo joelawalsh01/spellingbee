{
 "cells": [
  {
   "cell_type": "code",
   "execution_count": 1,
   "metadata": {
    "tags": []
   },
   "outputs": [],
   "source": [
    "from nltk.corpus import words\n",
    "from itertools import permutations\n",
    "from itertools import product\n"
   ]
  },
  {
   "cell_type": "code",
   "execution_count": 2,
   "metadata": {
    "collapsed": false,
    "jupyter": {
     "outputs_hidden": false
    },
    "pycharm": {
     "name": "#%%\n"
    }
   },
   "outputs": [
    {
     "name": "stderr",
     "output_type": "stream",
     "text": [
      "[nltk_data] Downloading package words to /Users/ednovate/nltk_data...\n",
      "[nltk_data]   Package words is already up-to-date!\n"
     ]
    },
    {
     "data": {
      "text/plain": [
       "True"
      ]
     },
     "execution_count": 2,
     "metadata": {},
     "output_type": "execute_result"
    }
   ],
   "source": [
    "import nltk\n",
    "nltk.download('words')"
   ]
  },
  {
   "cell_type": "code",
   "execution_count": 3,
   "metadata": {
    "collapsed": false,
    "jupyter": {
     "outputs_hidden": false
    },
    "pycharm": {
     "name": "#%%\n"
    }
   },
   "outputs": [],
   "source": [
    "def convertTuple(tup):\n",
    "    str = ''.join(tup)\n",
    "    return str"
   ]
  },
  {
   "cell_type": "code",
   "execution_count": 4,
   "metadata": {
    "collapsed": false,
    "jupyter": {
     "outputs_hidden": false
    },
    "pycharm": {
     "name": "#%%\n"
    }
   },
   "outputs": [],
   "source": [
    "# outside_letters : list of letters\n",
    "\n",
    "def generator2(middle_letter, outside_letter, word_length, shortest_word_length):\n",
    "    all_letters = outside_letter+middle_letter\n",
    "    solutions = []\n",
    "    print(all_letters)\n",
    "\n",
    "\n",
    "    for i in range(word_length):\n",
    "        roll = product(all_letters, repeat = i)\n",
    "        rolls = list(roll)\n",
    "\n",
    "        #perm = combinations_with_replacement(all_letters, i)\n",
    "        #perms = list(perm)\n",
    "\n",
    "        #print( \"length of perm is: \" + str(len(perms)))\n",
    "        #print( \"length of roll is: \" + str(len(rolls)))\n",
    "        for roll in rolls:\n",
    "            word = convertTuple(roll)\n",
    "            #print(perm)\n",
    "            if middle_letter in word:\n",
    "                #print( word)\n",
    "                v =  word in words.words()\n",
    "                if len(word)>=shortest_word_length:\n",
    "                    #print(word + \" is a word? \" + str(v))\n",
    "                    if v==True:\n",
    "                        solutions.append(word)\n",
    "                        print(word)\n",
    "    print(\"length increment\")\n",
    "    return solutions"
   ]
  },
  {
   "cell_type": "code",
   "execution_count": null,
   "metadata": {
    "collapsed": false,
    "jupyter": {
     "outputs_hidden": false
    },
    "pycharm": {
     "name": "#%%\n"
    }
   },
   "outputs": [
    {
     "name": "stdout",
     "output_type": "stream",
     "text": [
      "mgakoec\n",
      "macao\n",
      "macco\n",
      "meece\n"
     ]
    }
   ],
   "source": [
    "outer = 'mgakoe'\n",
    "shortest_length = 5\n",
    "max_length = 10\n",
    "inner_letter = 'c'\n",
    "test = generator2(inner_letter,outer,max_length, shortest_length)"
   ]
  },
  {
   "cell_type": "code",
   "execution_count": null,
   "metadata": {},
   "outputs": [],
   "source": []
  }
 ],
 "metadata": {
  "kernelspec": {
   "display_name": "Python 3",
   "language": "python",
   "name": "python3"
  },
  "language_info": {
   "codemirror_mode": {
    "name": "ipython",
    "version": 3
   },
   "file_extension": ".py",
   "mimetype": "text/x-python",
   "name": "python",
   "nbconvert_exporter": "python",
   "pygments_lexer": "ipython3",
   "version": "3.7.10"
  }
 },
 "nbformat": 4,
 "nbformat_minor": 4
}
